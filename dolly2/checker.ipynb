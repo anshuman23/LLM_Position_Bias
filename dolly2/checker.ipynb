{
 "cells": [
  {
   "cell_type": "code",
   "execution_count": 16,
   "metadata": {},
   "outputs": [],
   "source": [
    "import torch\n",
    "from transformers import pipeline\n",
    "from langchain import PromptTemplate, LLMChain\n",
    "from langchain.llms import HuggingFacePipeline\n",
    "from datasets import load_dataset, DatasetDict, load_from_disk\n",
    "from tqdm.auto import tqdm\n",
    "import pickle as pkl\n",
    "\n"
   ]
  },
  {
   "cell_type": "code",
   "execution_count": null,
   "metadata": {},
   "outputs": [],
   "source": [
    "generate_text = pipeline(model=\"databricks/dolly-v2-7b\", torch_dtype=torch.bfloat16, trust_remote_code=True, device_map=\"auto\",return_full_text=True)"
   ]
  },
  {
   "cell_type": "code",
   "execution_count": 14,
   "metadata": {},
   "outputs": [],
   "source": [
    "data = load_dataset(\"cnn_dailymail\", '3.0.0')\n",
    "article_key = 'article'\n",
    "summary_key = 'highlights'\n",
    "data=data['test']\n",
    "data=data.select(range(100))"
   ]
  },
  {
   "cell_type": "code",
   "execution_count": 2,
   "metadata": {},
   "outputs": [
    {
     "name": "stdout",
     "output_type": "stream",
     "text": [
      "Nuclear fission and nuclear fusion are both nuclear reactions. Nuclear reactions are what happen inside of atoms. Nuclear fission happens when a uranium or plutonium atom splits in two, and releases energy and particles. Nuclear fusion is what happens when two atoms join together, and release energy and particles. The big difference between nuclear fission and nuclear fusion is that nuclear fusion releases more energy, and happens more easily. Nuclear fusion can take place in a nuclear reactor, which contains lots of atoms of the fissile element that undergoes fusion, and ensures a lot of particles are being released. Nuclear fission must take place in a nuclear reactor, but can also take place in a nuclear bomb, or even by simply hitting a heavy metal plate with a hammer. However, nuclear fission has to take place in a very high-energy environment, whereas nuclear fusion can take place under normal conditions.\n"
     ]
    }
   ],
   "source": [
    "res = generate_text(\"Explain to me the difference between nuclear fission and fusion.\")\n",
    "print(res[0][\"generated_text\"])\n"
   ]
  },
  {
   "cell_type": "code",
   "execution_count": 5,
   "metadata": {},
   "outputs": [],
   "source": [
    "# template for an instruction with input\n",
    "prompt_with_context = PromptTemplate(\n",
    "    input_variables=[\"instruction\", \"context\"],\n",
    "    template=\"{instruction}\\n\\nInput:\\n{context}\")\n",
    "\n",
    "hf_pipeline = HuggingFacePipeline(pipeline=generate_text)\n",
    "\n",
    "\n",
    "llm_context_chain = LLMChain(llm=hf_pipeline, prompt=prompt_with_context)\n",
    "\n"
   ]
  },
  {
   "cell_type": "code",
   "execution_count": 15,
   "metadata": {},
   "outputs": [
    {
     "name": "stderr",
     "output_type": "stream",
     "text": [
      "  7%|▋         | 7/100 [01:37<27:28, 17.72s/it]/home/haskari/miniconda3/envs/acl/lib/python3.11/site-packages/transformers/pipelines/base.py:1083: UserWarning: You seem to be using the pipelines sequentially on GPU. In order to maximize efficiency please use a dataset\n",
      "  warnings.warn(\n",
      " 39%|███▉      | 39/100 [07:42<18:31, 18.22s/it]This is a friendly reminder - the current text generation call will exceed the model's predefined maximum length (2048). Depending on the model, you may observe exceptions, performance degradation, or nothing at all.\n",
      "100%|██████████| 100/100 [19:36<00:00, 11.77s/it]\n"
     ]
    }
   ],
   "source": [
    "for article in tqdm(data[article_key]):\n",
    "    context = article\n",
    "\n",
    "    result=llm_context_chain.predict(instruction=\"Generate a 3 sentence summary of the article.\", context=context).lstrip()\n"
   ]
  },
  {
   "cell_type": "code",
   "execution_count": 7,
   "metadata": {},
   "outputs": [
    {
     "data": {
      "text/plain": [
       "3612"
      ]
     },
     "execution_count": 7,
     "metadata": {},
     "output_type": "execute_result"
    }
   ],
   "source": [
    "len(context)"
   ]
  },
  {
   "cell_type": "code",
   "execution_count": 9,
   "metadata": {},
   "outputs": [
    {
     "data": {
      "text/plain": [
       "712"
      ]
     },
     "execution_count": 9,
     "metadata": {},
     "output_type": "execute_result"
    }
   ],
   "source": [
    "len(result)"
   ]
  },
  {
   "cell_type": "code",
   "execution_count": 20,
   "metadata": {},
   "outputs": [
    {
     "name": "stdout",
     "output_type": "stream",
     "text": [
      "Despite improvements made by the Welsh Government to prevent people from losing their home whilst serving their prison sentence, the national pathway for homeless services to children, young people and adults in the secure estate has not worked as well as it should have. As a result, there are still many people losing their homes while they are in prison. The key to this problem lies in providing more one-bedroom flats, which can house more people at a lower cost than keeping them in a rented flat, which would help lower the need for people to rough it outside before they are found suitable accommodation.\n",
      "612\n",
      "On Wednesday officers recovered three firearms, ammunition and a five-figure sum of money in an operation in Waterfront Park and Colonsay View in Edinburgh. A 26-year-old man was arrested at the properties during the course of the operation.\n",
      "241\n",
      "Jordan Hill, Brittany Covington, Tanishia Covington, and Tesfaye Cooper, all 18, and Tanishia Covington, 24, appeared in a Chicago court on Friday.\n",
      "The four have been charged with hate crimes and aggravated kidnapping and battery, among other things.\n",
      "An online fundraiser for their victim has collected $51,000 (Â£42,500) so far.\n",
      "Denying the four suspects bail, Judge Maria Kuriakos Ciesil asked: \"Where was your sense of decency?\"\n",
      "Prosecutors told the court the beating started in a van and continued at a house, where the suspects allegedly forced the 18-year-old white victim, who suffers from schizophrenia and attention deficit disorder, to drink toilet water and kiss the floor.\n",
      "Police allege the van was earlier stolen by Jordan Hill, who is also accused of demanding $300 from the victim's mother while they held him captive, according to the Chicago Tribune.\n",
      "The court was also told the suspects stuffed a sock into his mouth, taped his mouth shut and bound his hands with a belt.\n",
      "In a video made for Facebook Live which was watched millions of times, the assailants can be heard making derogatory statements\n",
      "1117\n",
      "Bryanidle played for the Royals and became director of football for West Bromwich Albion.\n",
      "89\n",
      "Restoring the function of the organ - which helps control blood sugar levels - reversed symptoms of diabetes in animal experiments. The study, published in the journal Cell, says the diet reboots the body. Experts said the findings were \"potentially very exciting\" as they could become a new treatment for the disease. The experiments were on mice put on a modified form of the \"fasting-mimicking diet\". When people go on it they spend five days on a low calorie, low protein, low carbohydrate but high unsaturated-fat diet. It resembles a vegan diet with nuts and soups, but with around 800 to 1,100 calories a day. Then they have 25 days eating what they want - so overall it mimics periods of feast and famine. Previous research has suggested it can slow the pace of ageing. But animal experiments showed the diet regenerated a special type of cell in the pancreas called a beta cell. These are the cells that detect sugar in the blood and release the hormone insulin if it gets too high. Dr Valter Longo, from the University of Southern California, said: \"Our conclusion is that by pushing the mice into an extreme state and then bringing them back - by starving them and then feeding them again - the cells in the pancreas are\n",
      "1231\n",
      "There certainly should be a 1 sentence summary for the given article.\n",
      "69\n",
      "The latest high-profile cyclist to speak out against British Cycling's culture is 42-year-old Wendy Houvenaghel, who won silver in the individual pursuit at the Beijing Olympics in 2008.\n",
      "Wendy said British Cycling had \"aged\" and \"ageist\" attitudes and had \"zero regard\" for her welfare.\n",
      "In a candid interview with BBC Sport this week, she described a toxic environment that she says went \"too far\" and created a \"hostile, frosty\" atmosphere.\n",
      "The World Champion believes her treatment was \"discarded\" by the organisation in 2012 because she was older than her teammates.\n",
      "In response, British Cycling insisted it had taken \"accountable action\" to address past failings.\n",
      "A government-commissioned review, headed by 11-time Paralympic champion Baroness Grey-Thompson, is due to be published imminently and will recommend significant reforms designed to improve the way athletes are treated by governing bodies.\n",
      "906\n",
      "In 2009 Kareem Badr and two friends paid $20,000 to open a nightclub called the Hideout in Austin, Texas.  They took over a sinking ship and drew a salary of $30,000 a month during the slowest months running the club.  Three years later they were able to quit their day job and drew a salary of $40,000 a month running the club.  Kareem Badr has a background in computer science and used that to build a successful nightclub business.\n",
      "434\n",
      "Relieved that the giant telecoms company would not be broken up, they piled into the shares, sending them up 3% in early trading. BT dodged a bullet - and, as the chief executive of Ofcom, Sharon White, admitted, it was for prosaic reasons.\n",
      "240\n",
      "I'm really looking forward to it - the home of Scottish football, said Rodgers ahead of his maiden visit to the Old Firm derby. I hear the pitch is good, a nice big pitch suits the speed in our team and our intensity. The technical area goes right out to the end of the pitch, but you might need a taxi to get back to your staff. This will be Rodgers' second taste of the Old Firm derby and his experience of the fixture got off to a great start with a 5-1 league victory at Celtic Park last month. \"It was a brilliant performance by the players in every aspect,\" he recalled. \"Obviously this one is on a neutral ground, but we'll be looking to have a similar performance. \"We'll be prepared and focused. We know it's going to be a tough game. We anticipated that the last time. \"Rodgers is also aware Celtic's visit to Hampden last season in the Scottish Cup semi-final against Rangers ended in defeat. The last experience there wasn't so good for Celtic,\" he said. But it's a different team with a different mentality and we'll look to take that mentality into the game. \"You have to perform - that's what's important and if you get little\n",
      "1141\n"
     ]
    }
   ],
   "source": [
    "with open('data/xsum.pkl', 'rb') as f:\n",
    "    l=pkl.load(f)\n",
    "\n",
    "for items in l:\n",
    "    print(items)\n",
    "    print(len(items))"
   ]
  },
  {
   "cell_type": "code",
   "execution_count": null,
   "metadata": {},
   "outputs": [],
   "source": []
  }
 ],
 "metadata": {
  "kernelspec": {
   "display_name": "acl",
   "language": "python",
   "name": "python3"
  },
  "language_info": {
   "codemirror_mode": {
    "name": "ipython",
    "version": 3
   },
   "file_extension": ".py",
   "mimetype": "text/x-python",
   "name": "python",
   "nbconvert_exporter": "python",
   "pygments_lexer": "ipython3",
   "version": "3.11.5"
  },
  "orig_nbformat": 4
 },
 "nbformat": 4,
 "nbformat_minor": 2
}
