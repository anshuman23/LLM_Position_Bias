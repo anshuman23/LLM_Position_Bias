{
 "cells": [
  {
   "cell_type": "code",
   "execution_count": 1,
   "metadata": {},
   "outputs": [
    {
     "name": "stderr",
     "output_type": "stream",
     "text": [
      "/home/haskari/miniconda3/envs/acl/lib/python3.11/site-packages/tqdm/auto.py:21: TqdmWarning: IProgress not found. Please update jupyter and ipywidgets. See https://ipywidgets.readthedocs.io/en/stable/user_install.html\n",
      "  from .autonotebook import tqdm as notebook_tqdm\n",
      "[nltk_data] Downloading package punkt to /home/haskari/nltk_data...\n",
      "[nltk_data]   Package punkt is already up-to-date!\n"
     ]
    },
    {
     "data": {
      "text/plain": [
       "True"
      ]
     },
     "execution_count": 1,
     "metadata": {},
     "output_type": "execute_result"
    }
   ],
   "source": [
    "import pickle as pkl\n",
    "import numpy as np\n",
    "from tqdm import tqdm\n",
    "import pandas as pd\n",
    "from transformers import PegasusForConditionalGeneration, PegasusTokenizer\n",
    "from datasets import load_dataset, DatasetDict, load_from_disk\n",
    "from transformers import AutoTokenizer, AutoModelForSeq2SeqLM\n",
    "from transformers import Trainer, TrainingArguments, pipeline\n",
    "from nltk.tokenize import sent_tokenize, word_tokenize\n",
    "import multiprocessing\n",
    "import nltk\n",
    "nltk.download('punkt')"
   ]
  },
  {
   "cell_type": "code",
   "execution_count": 2,
   "metadata": {},
   "outputs": [],
   "source": [
    "with open('data/cnn.pkl', 'rb') as f:\n",
    "    cnn_chat=pkl.load(f)"
   ]
  },
  {
   "cell_type": "code",
   "execution_count": 4,
   "metadata": {},
   "outputs": [
    {
     "name": "stdout",
     "output_type": "stream",
     "text": [
      "0\n"
     ]
    }
   ],
   "source": [
    "#number of empty summaries\n",
    "fail_count=0\n",
    "for items in cnn_chat:\n",
    "    if not items:\n",
    "        fail_count+=0\n",
    "\n",
    "print(fail_count)"
   ]
  },
  {
   "cell_type": "code",
   "execution_count": 6,
   "metadata": {},
   "outputs": [
    {
     "name": "stdout",
     "output_type": "stream",
     "text": [
      "2489\n"
     ]
    }
   ],
   "source": [
    "count=0\n",
    "for items in cnn_chat:\n",
    "    items=nltk.sent_tokenize(items)\n",
    "\n",
    "    if not items:\n",
    "        continue\n",
    "    elif len(items)==3:\n",
    "        count+=1\n",
    "\n",
    "print(count)"
   ]
  },
  {
   "cell_type": "code",
   "execution_count": 7,
   "metadata": {},
   "outputs": [
    {
     "name": "stdout",
     "output_type": "stream",
     "text": [
      "11490\n"
     ]
    }
   ],
   "source": [
    "print(len(cnn_chat))"
   ]
  },
  {
   "cell_type": "code",
   "execution_count": 8,
   "metadata": {},
   "outputs": [],
   "source": [
    "data = load_dataset(\"cnn_dailymail\", '3.0.0')\n",
    "article_key = 'article'\n",
    "summary_key = 'highlights'\n",
    "\n",
    "data=data['test']"
   ]
  },
  {
   "cell_type": "code",
   "execution_count": 14,
   "metadata": {},
   "outputs": [],
   "source": [
    "def tokenize(example):\n",
    "\n",
    "    example[\"original_article\"] = example[article_key]\n",
    "    example[\"article\"] = nltk.sent_tokenize(example[article_key])\n",
    "    # if args.dataset == 'news':\n",
    "    # check=example[summary_key][0]['text']\n",
    "    # example[\"highlights\"] = nltk.sent_tokenize(check)\n",
    "    # else:\n",
    "    example[\"highlights\"] = nltk.sent_tokenize(example[summary_key])\n",
    "        \n",
    "    return example\n",
    "\n",
    "data = data.map(tokenize, num_proc=multiprocessing.cpu_count())"
   ]
  },
  {
   "cell_type": "code",
   "execution_count": 10,
   "metadata": {},
   "outputs": [
    {
     "name": "stdout",
     "output_type": "stream",
     "text": [
      "43560\n"
     ]
    }
   ],
   "source": [
    "count=0\n",
    "for summ in data['highlights']:\n",
    "    count+=len(summ)\n",
    "\n",
    "print(count)"
   ]
  },
  {
   "cell_type": "code",
   "execution_count": 11,
   "metadata": {},
   "outputs": [
    {
     "name": "stdout",
     "output_type": "stream",
     "text": [
      "55553\n"
     ]
    }
   ],
   "source": [
    "count=0\n",
    "for summ in cnn_chat:\n",
    "    count+=len(nltk.sent_tokenize(summ))\n",
    "\n",
    "print(count)\n",
    "    "
   ]
  },
  {
   "cell_type": "code",
   "execution_count": 8,
   "metadata": {},
   "outputs": [],
   "source": [
    "with open('data/xsum_capped.pkl', 'rb') as f:\n",
    "    xsum_chat=pkl.load(f)"
   ]
  },
  {
   "cell_type": "code",
   "execution_count": 9,
   "metadata": {},
   "outputs": [
    {
     "name": "stdout",
     "output_type": "stream",
     "text": [
      "0\n"
     ]
    }
   ],
   "source": [
    "#number of empty summaries\n",
    "fail_count=0\n",
    "for items in xsum_chat:\n",
    "    if not items:\n",
    "        fail_count+=0\n",
    "\n",
    "print(fail_count)"
   ]
  },
  {
   "cell_type": "code",
   "execution_count": 11,
   "metadata": {},
   "outputs": [
    {
     "name": "stdout",
     "output_type": "stream",
     "text": [
      "11334\n"
     ]
    }
   ],
   "source": [
    "count=0\n",
    "for items in xsum_chat:\n",
    "    #items=nltk.sent_tokenize(items)\n",
    "    if not items:\n",
    "        continue\n",
    "    elif len(items)==1:\n",
    "        count+=1\n",
    "\n",
    "print(count)"
   ]
  },
  {
   "cell_type": "code",
   "execution_count": 12,
   "metadata": {},
   "outputs": [],
   "source": [
    "data = load_dataset(\"xsum\")\n",
    "article_key = 'document'\n",
    "summary_key = 'summary'\n",
    "\n",
    "data=data['test']"
   ]
  },
  {
   "cell_type": "code",
   "execution_count": 15,
   "metadata": {},
   "outputs": [],
   "source": [
    "data = data.map(tokenize, num_proc=multiprocessing.cpu_count())"
   ]
  },
  {
   "cell_type": "code",
   "execution_count": 16,
   "metadata": {},
   "outputs": [
    {
     "name": "stdout",
     "output_type": "stream",
     "text": [
      "11335\n"
     ]
    }
   ],
   "source": [
    "count=0\n",
    "for summ in data['highlights']:\n",
    "    count+=len(summ)\n",
    "\n",
    "print(count)"
   ]
  },
  {
   "cell_type": "code",
   "execution_count": 18,
   "metadata": {},
   "outputs": [
    {
     "name": "stdout",
     "output_type": "stream",
     "text": [
      "11334\n"
     ]
    }
   ],
   "source": [
    "count=0\n",
    "for summ in xsum_chat:\n",
    "    count+=len(summ)\n",
    "\n",
    "print(count)"
   ]
  },
  {
   "cell_type": "code",
   "execution_count": 26,
   "metadata": {},
   "outputs": [],
   "source": [
    "with open('data/news_capped.pkl', 'rb') as f:\n",
    "    news_chat=pkl.load(f)"
   ]
  },
  {
   "cell_type": "code",
   "execution_count": 27,
   "metadata": {},
   "outputs": [
    {
     "data": {
      "text/plain": [
       "['The Swedish government has halted new development aid to Cambodia and will no longer support a reform programme initiated by the opposition party.']"
      ]
     },
     "execution_count": 27,
     "metadata": {},
     "output_type": "execute_result"
    }
   ],
   "source": [
    "news_chat[0]"
   ]
  },
  {
   "cell_type": "code",
   "execution_count": 28,
   "metadata": {},
   "outputs": [
    {
     "name": "stdout",
     "output_type": "stream",
     "text": [
      "0\n"
     ]
    }
   ],
   "source": [
    "fail_count=0\n",
    "for items in news_chat:\n",
    "    if not items:\n",
    "        fail_count+=0\n",
    "\n",
    "print(fail_count)"
   ]
  },
  {
   "cell_type": "code",
   "execution_count": 29,
   "metadata": {},
   "outputs": [
    {
     "name": "stdout",
     "output_type": "stream",
     "text": [
      "1000\n"
     ]
    }
   ],
   "source": [
    "count=0\n",
    "for items in news_chat:\n",
    "    #items=nltk.sent_tokenize(items)\n",
    "    if not items:\n",
    "        continue\n",
    "    elif len(items)==1:\n",
    "        count+=1\n",
    "\n",
    "print(count)"
   ]
  },
  {
   "cell_type": "code",
   "execution_count": 30,
   "metadata": {},
   "outputs": [],
   "source": [
    "data = load_dataset(\"argilla/news-summary\")\n",
    "article_key = 'text'\n",
    "summary_key = 'prediction'\n",
    "data = DatasetDict({\n",
    "    'train': data['test'],\n",
    "    'test': data['train']})\n",
    "\n",
    "data=data['test']"
   ]
  },
  {
   "cell_type": "code",
   "execution_count": 31,
   "metadata": {},
   "outputs": [],
   "source": [
    "def tokenize_news(example):\n",
    "    example[\"original_article\"] = example[article_key]\n",
    "    example[\"article\"] = nltk.sent_tokenize(example[article_key])\n",
    "\n",
    "    check=example[summary_key][0]['text']\n",
    "    example[\"highlights\"] = nltk.sent_tokenize(check)\n",
    "\n",
    "    return example"
   ]
  },
  {
   "cell_type": "code",
   "execution_count": 32,
   "metadata": {},
   "outputs": [],
   "source": [
    "data = data.map(tokenize_news, num_proc=multiprocessing.cpu_count())"
   ]
  },
  {
   "cell_type": "code",
   "execution_count": 33,
   "metadata": {},
   "outputs": [
    {
     "name": "stdout",
     "output_type": "stream",
     "text": [
      "1012\n"
     ]
    }
   ],
   "source": [
    "count=0\n",
    "for summ in data['highlights']:\n",
    "    count+=len(summ)\n",
    "\n",
    "print(count)"
   ]
  },
  {
   "cell_type": "code",
   "execution_count": 35,
   "metadata": {},
   "outputs": [
    {
     "name": "stdout",
     "output_type": "stream",
     "text": [
      "1000\n"
     ]
    }
   ],
   "source": [
    "count=0\n",
    "for summ in news_chat:\n",
    "    count+=len(summ)\n",
    "\n",
    "print(count)"
   ]
  },
  {
   "cell_type": "code",
   "execution_count": 37,
   "metadata": {},
   "outputs": [],
   "source": [
    "with open('data/reddit_capped.pkl', 'rb') as f:\n",
    "    reddit_chat=pkl.load(f)"
   ]
  },
  {
   "cell_type": "code",
   "execution_count": 38,
   "metadata": {},
   "outputs": [
    {
     "name": "stdout",
     "output_type": "stream",
     "text": [
      "0\n"
     ]
    }
   ],
   "source": [
    "#number of empty summaries\n",
    "fail_count=0\n",
    "for items in reddit_chat:\n",
    "    if not items:\n",
    "        fail_count+=0\n",
    "\n",
    "print(fail_count)"
   ]
  },
  {
   "cell_type": "code",
   "execution_count": 40,
   "metadata": {},
   "outputs": [
    {
     "name": "stdout",
     "output_type": "stream",
     "text": [
      "4214\n"
     ]
    }
   ],
   "source": [
    "count=0\n",
    "for items in reddit_chat:\n",
    "    if not items:\n",
    "        continue\n",
    "    elif len(items)==1:\n",
    "        count+=1\n",
    "\n",
    "print(count)"
   ]
  },
  {
   "cell_type": "code",
   "execution_count": 41,
   "metadata": {},
   "outputs": [],
   "source": [
    "data = load_dataset('reddit_tifu', 'long')\n",
    "article_key = 'documents'\n",
    "summary_key = 'tldr'\n",
    "    # 80% train, 20% test + validation\n",
    "train_testvalid = data['train'].train_test_split(test_size=0.2, seed=42)\n",
    "# Split the 20% test + valid in half test, half valid\n",
    "test_valid = train_testvalid['test'].train_test_split(test_size=0.5, seed=42)\n",
    "# gather everyone if you want to have a single DatasetDict\n",
    "data = DatasetDict({\n",
    "    'train': train_testvalid['train'],\n",
    "    'test': test_valid['test'],\n",
    "    'validation': test_valid['train']})\n",
    "\n",
    "data=data['test']"
   ]
  },
  {
   "cell_type": "code",
   "execution_count": 42,
   "metadata": {},
   "outputs": [],
   "source": [
    "data = data.map(tokenize, num_proc=multiprocessing.cpu_count())"
   ]
  },
  {
   "cell_type": "code",
   "execution_count": 43,
   "metadata": {},
   "outputs": [
    {
     "name": "stdout",
     "output_type": "stream",
     "text": [
      "6016\n"
     ]
    }
   ],
   "source": [
    "count=0\n",
    "for summ in data['highlights']:\n",
    "    count+=len(summ)\n",
    "\n",
    "print(count)"
   ]
  },
  {
   "cell_type": "code",
   "execution_count": 44,
   "metadata": {},
   "outputs": [
    {
     "name": "stdout",
     "output_type": "stream",
     "text": [
      "4214\n"
     ]
    }
   ],
   "source": [
    "count=0\n",
    "for summ in reddit_chat:\n",
    "    count+=len(summ)\n",
    "\n",
    "print(count)"
   ]
  }
 ],
 "metadata": {
  "kernelspec": {
   "display_name": "acl",
   "language": "python",
   "name": "python3"
  },
  "language_info": {
   "codemirror_mode": {
    "name": "ipython",
    "version": 3
   },
   "file_extension": ".py",
   "mimetype": "text/x-python",
   "name": "python",
   "nbconvert_exporter": "python",
   "pygments_lexer": "ipython3",
   "version": "3.11.5"
  },
  "orig_nbformat": 4
 },
 "nbformat": 4,
 "nbformat_minor": 2
}
